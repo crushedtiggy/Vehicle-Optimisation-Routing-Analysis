{
 "cells": [
  {
   "cell_type": "raw",
   "id": "8c2a9a7a",
   "metadata": {},
   "source": [
    "---\n",
    "title: Optimisation Route\n",
    "description: Setting up van routing optimisation for Osotspa\n",
    "show-code: False\n",
    "params:\n",
    "    category:\n",
    "        input: select\n",
    "        label: Please select a category\n",
    "        value: ENERGY DRINK\n",
    "        choices: ['REFRESHMENT', 'ENERGY DRINK', 'SPORT DRINK', 'SNACK', 'FUNCTIONAL DRINK']\n",
    "    province:\n",
    "        input: select\n",
    "        label: Please select a province\n",
    "        value: Bangkok\n",
    "        choices: ['Bangkok', 'Chai Nat', 'Kalasin', 'Lampang', 'Nakhon Ratchasima', 'Nakhon Sawan', 'Phatthalung', 'Phetchabun', 'Phra Nakhon Si Ayutthaya', 'Prachin Buri', 'Satun', 'Songkhla', 'Ubon Ratchathani','Udon Thani']\n",
    "---"
   ]
  },
  {
   "cell_type": "code",
   "execution_count": null,
   "id": "169addcd-c835-4e87-b78b-c6c224981846",
   "metadata": {
    "scrolled": true,
    "tags": []
   },
   "outputs": [],
   "source": [
    "import pandas as pd\n",
    "import openrouteservice as ors\n",
    "import folium\n",
    "from folium.plugins import BeautifyIcon"
   ]
  },
  {
   "cell_type": "code",
   "execution_count": null,
   "id": "a6f6243b-a0d5-43ad-9300-d55b2263893e",
   "metadata": {},
   "outputs": [],
   "source": [
    "import warnings\n",
    "warnings.filterwarnings('ignore')"
   ]
  },
  {
   "cell_type": "code",
   "execution_count": null,
   "id": "1143dc23-dc20-4d0c-9561-5acc12895bd6",
   "metadata": {
    "scrolled": true
   },
   "outputs": [],
   "source": [
    "key = '5b3ce3597851110001cf6248defda44fc629453ebb03e19b48c9aad3'"
   ]
  },
  {
   "cell_type": "markdown",
   "id": "019500da-0639-48d5-a4e4-4c774d85c2fb",
   "metadata": {},
   "source": [
    "<h1>Vehicle Optimisation Routing Analysis</h1>"
   ]
  },
  {
   "cell_type": "markdown",
   "id": "ad4b4a5e-cf6d-4161-b117-b5ae4e65008c",
   "metadata": {},
   "source": [
    "<h2>The Logistics Setup</h2>"
   ]
  },
  {
   "cell_type": "code",
   "execution_count": null,
   "id": "9155f2d5-eb85-455a-b6a9-c7bac6d94066",
   "metadata": {
    "tags": []
   },
   "outputs": [],
   "source": [
    "# Next load the shop locations from XLSX file\n",
    "shops = pd.read_excel(\"https://github.com/crushedtiggy/Vehicle-Optimisation-Routing-Analysis/blob/main/random_shops_extract.xlsx?raw=true\", engine="openpyxl")"
   ]
  },
  {
   "cell_type": "code",
   "execution_count": null,
   "id": "d3f1c86d-1544-465d-92a0-005af74493ea",
   "metadata": {
    "tags": []
   },
   "outputs": [],
   "source": [
    "# Load transactions\n",
    "trans = pd.read_csv(\"df_transaction.csv\")"
   ]
  },
  {
   "cell_type": "code",
   "execution_count": null,
   "id": "5399239b-a649-47ea-98fc-9e95446b3f4c",
   "metadata": {
    "tags": []
   },
   "outputs": [],
   "source": [
    "# Load master products\n",
    "products = pd.read_excel(\"https://github.com/crushedtiggy/Vehicle-Optimisation-Routing-Analysis/blob/main/Master_Products.xlsx?raw=true\", engine="openpyxl")\n",
    "products = products.rename(columns={\"productcode\": \"ProductCode\"})"
   ]
  },
  {
   "cell_type": "code",
   "execution_count": null,
   "id": "5ab0f1d7-6242-4a79-8d24-c3122f93600d",
   "metadata": {
    "tags": []
   },
   "outputs": [],
   "source": [
    "combined_products_trans = pd.merge(trans, products, on='ProductCode', how='inner')"
   ]
  },
  {
   "cell_type": "code",
   "execution_count": null,
   "id": "7e4b0bd9",
   "metadata": {
    "scrolled": true
   },
   "outputs": [],
   "source": [
    "categories = list(combined_products_trans['category'].unique())"
   ]
  },
  {
   "cell_type": "code",
   "execution_count": null,
   "id": "e80b39f8-f34e-43d7-8630-aaeb18680105",
   "metadata": {
    "scrolled": true
   },
   "outputs": [],
   "source": [
    "energy_drinks = combined_products_trans[combined_products_trans['category'] == category]"
   ]
  },
  {
   "cell_type": "code",
   "execution_count": null,
   "id": "db142bc9-b393-43c7-acc9-defadf578d26",
   "metadata": {
    "tags": []
   },
   "outputs": [],
   "source": [
    "energy_drinks_shops = pd.merge(shops, energy_drinks, on=['CustomerCode'], how='inner')"
   ]
  },
  {
   "cell_type": "code",
   "execution_count": null,
   "id": "a2e08ec8",
   "metadata": {
    "scrolled": true
   },
   "outputs": [],
   "source": [
    "provinces = list(energy_drinks_shops['ProvinceNameEng'].unique())"
   ]
  },
  {
   "cell_type": "markdown",
   "id": "668b6e3c-2d44-47d4-a175-6e40e7ec21ed",
   "metadata": {},
   "source": [
    "<h3>Result containing shops selling selected category in the selected province</h3>"
   ]
  },
  {
   "cell_type": "code",
   "execution_count": null,
   "id": "a90bda50-d592-40fe-8307-b277b46094da",
   "metadata": {
    "tags": []
   },
   "outputs": [],
   "source": [
    "print(\"Category selected: \" + category)\n",
    "print(\"Province selected: \" + province)\n",
    "filtered_prov = energy_drinks_shops[energy_drinks_shops['ProvinceNameEng'] == province]\n",
    "filtered_prov = filtered_prov.reset_index(drop=True)\n",
    "filtered_prov"
   ]
  },
  {
   "cell_type": "markdown",
   "id": "d36f79f4-3bd8-4e44-a2c7-ab669722774b",
   "metadata": {},
   "source": [
    "<h3>Random sampling of 20 shops</h3>"
   ]
  },
  {
   "cell_type": "code",
   "execution_count": null,
   "id": "eb083064-bdee-4f82-839b-b2cb518e00b5",
   "metadata": {
    "tags": []
   },
   "outputs": [],
   "source": [
    "import random\n",
    "random_samples = []\n",
    "trackNums = []\n",
    "\n",
    "for i in range(21):\n",
    "    rnd_index = random.randrange(0, len(filtered_prov))\n",
    "    if (rnd_index not in trackNums):\n",
    "        trackNums.append(rnd_index)\n",
    "        row_details = {\n",
    "            \"Index\": int(rnd_index),\n",
    "            \"CustomerCode\": energy_drinks_shops['CustomerCode'][rnd_index],\n",
    "            \"CustomerName\": energy_drinks_shops['CustomerName'][rnd_index],\n",
    "            \"CustomerType\": energy_drinks_shops['CustomerType'][rnd_index],\n",
    "            \"RegionName\": energy_drinks_shops['RegionName'][rnd_index],\n",
    "            \"DC_Name\": energy_drinks_shops['DC_Name'][rnd_index],\n",
    "            \"DistrictNameTH\": energy_drinks_shops['DistrictNameTH'][rnd_index],\n",
    "            \"ProvinceNameEng\": energy_drinks_shops['ProvinceNameEng'][rnd_index],\n",
    "            \"DistrictNameEng\": energy_drinks_shops['DistrictNameEng'][rnd_index],\n",
    "            \"Lat\": energy_drinks_shops['Lat'][rnd_index],\n",
    "            \"Lng\": energy_drinks_shops['Lng'][rnd_index],\n",
    "            \"Category\": energy_drinks_shops['category_y'][rnd_index],\n",
    "            \"Brand\": energy_drinks_shops['brand'][rnd_index],\n",
    "            \"ProductName\": energy_drinks_shops['sku_name_thai'][rnd_index],\n",
    "            \"BaseQty\": energy_drinks_shops['BaseQty'][rnd_index]\n",
    "        }\n",
    "        random_samples.append(row_details)"
   ]
  },
  {
   "cell_type": "code",
   "execution_count": null,
   "id": "c3f4db25-4fca-4831-a2f4-7f310b5c214e",
   "metadata": {
    "tags": []
   },
   "outputs": [],
   "source": [
    "samples = pd.DataFrame(random_samples)\n",
    "samples = samples.sort_values(by='CustomerCode',ascending=True)\n",
    "samples = samples.sort_index()\n",
    "samples.to_excel('sample_shops.xlsx', index=False, encoding='utf-8')\n",
    "samples.to_json('sample_shops_split.json', orient=\"split\")\n",
    "samples.to_json('sample_shops_records.json', orient=\"records\")\n",
    "samples.to_json('sample_shops_index.json', orient=\"index\")\n",
    "samples"
   ]
  },
  {
   "cell_type": "code",
   "execution_count": null,
   "id": "f00125aa-21e7-4395-96d0-a18ccb703c69",
   "metadata": {
    "scrolled": true
   },
   "outputs": [],
   "source": [
    "# First, define map centered around Bangkok\n",
    "m = folium.Map(location=[13.736717, 100.523186], tiles='cartodbpositron', zoom_start=8)"
   ]
  },
  {
   "cell_type": "code",
   "execution_count": null,
   "id": "c75720fc-e01e-4e63-8a84-926195a6a02c",
   "metadata": {
    "scrolled": true
   },
   "outputs": [],
   "source": [
    "# The vehicles are allocated at 348 Ramkhamhaeng Road (Osotspa Delivery)\n",
    "depot = [13.7497483, 100.606157]"
   ]
  },
  {
   "cell_type": "code",
   "execution_count": null,
   "id": "5e072802-acf6-4b26-9d1c-f98f9ed3678c",
   "metadata": {
    "scrolled": true
   },
   "outputs": [],
   "source": [
    "# Plot the locations on the map with more info in the ToolTip\n",
    "for location in samples.itertuples():\n",
    "    tooltip = folium.map.Tooltip(\"<h4><b>Customer Code {}</b></p><p>Customer Name: <b>{}</b></p><p>Category: <b>{}</b></p><p>Brand: <b>{}</b></p><p>Product Name: <b>{}</b></p><p>Quantity Needed: <b>{}</b></p>\".format(\n",
    "        location.CustomerCode, location.CustomerName, location.Category, location.Brand, location.ProductName, location.BaseQty\n",
    "    ))\n",
    "\n",
    "    folium.Marker(\n",
    "        location=[location.Lat, location.Lng],\n",
    "        tooltip=tooltip,\n",
    "        icon=BeautifyIcon(\n",
    "            icon_shape='marker',\n",
    "            number=str(location.Index),\n",
    "            spin=True,\n",
    "            text_color='red',\n",
    "            background_color=\"#FFF\",\n",
    "            inner_icon_style=\"font-size:12px;padding-top:-5px;\"\n",
    "        )\n",
    "    ).add_to(m)"
   ]
  },
  {
   "cell_type": "code",
   "execution_count": null,
   "id": "6205f395-b990-4328-9c02-8f58b7643f78",
   "metadata": {},
   "outputs": [],
   "source": [
    "folium.Marker(\n",
    "    location=depot,\n",
    "    icon=folium.Icon(color=\"green\", icon=\"bus\", prefix='fa'),\n",
    "    setZIndexOffset=1000\n",
    ").add_to(m)"
   ]
  },
  {
   "cell_type": "markdown",
   "id": "e8e3d872-2e98-4c43-884c-60df694bf1ea",
   "metadata": {},
   "source": [
    "<h2>The Routing Problem Setup</h2>"
   ]
  },
  {
   "cell_type": "code",
   "execution_count": null,
   "id": "f0e75ab7-77c8-4df4-9b1d-4405849ad6d2",
   "metadata": {
    "scrolled": true
   },
   "outputs": [],
   "source": [
    "# Define the vehicles\n",
    "# https://openrouteservice-py.readthedocs.io/en/latest/openrouteservice.html#openrouteservice.optimization.Vehicle\n",
    "vehicles = list()\n",
    "for idx in range(3):\n",
    "    vehicles.append(\n",
    "        ors.optimization.Vehicle(\n",
    "            id=idx,\n",
    "            start=list(reversed(depot)),\n",
    "            end=list(reversed(depot)),\n",
    "            capacity=[300],\n",
    "            time_window=[1667170800, 1667214000]\n",
    "            # Mon 31 Oct 2022, 7-19:00, expressed in POSIX timestamp and converted via website\n",
    "            # Expressed in 7-19:00 because the website converted to SG time, so minus 1 hour to fit Thailand time zone\n",
    "        )\n",
    "    )"
   ]
  },
  {
   "cell_type": "code",
   "execution_count": null,
   "id": "2881d12c-6679-4054-821a-f4e7a5da6ff3",
   "metadata": {
    "scrolled": true
   },
   "outputs": [],
   "source": [
    "# Next define the delivery stations\n",
    "# https://openrouteservice-py.readthedocs.io/en/latest/openrouteservice.html#openrouteservice.optimization.Job\n",
    "deliveries = list()\n",
    "for delivery in samples.itertuples():\n",
    "    deliveries.append(\n",
    "        ors.optimization.Job(\n",
    "            id=delivery.Index,\n",
    "            location=[delivery.Lng, delivery.Lat],\n",
    "            service=1200,  # Assume 20 minutes at each site\n",
    "            amount=[delivery.BaseQty],\n",
    "            time_windows=[[1667178000, 1667221200]] # VROOM expects UNIX timestamp\n",
    "        )\n",
    "    )"
   ]
  },
  {
   "cell_type": "code",
   "execution_count": null,
   "id": "3ccc8abb-62ae-4844-83fd-ebe12e60a868",
   "metadata": {
    "scrolled": true
   },
   "outputs": [],
   "source": [
    "# Initialize a client and make the request\n",
    "ors_client = ors.Client(key=key)  # Get an API key from https://openrouteservice.org/dev/#/signup\n",
    "result = ors_client.optimization(\n",
    "    jobs=deliveries,\n",
    "    vehicles=vehicles,\n",
    "    geometry=True\n",
    ")"
   ]
  },
  {
   "cell_type": "markdown",
   "id": "090a2b02-5ee8-42ac-9775-6ff802c6c5bf",
   "metadata": {},
   "source": [
    "<h3>Optimisation Routes on Map</h3>"
   ]
  },
  {
   "cell_type": "code",
   "execution_count": null,
   "id": "e1cd9e12-95d1-45db-8980-51abe8e1ee8d",
   "metadata": {
    "scrolled": true
   },
   "outputs": [],
   "source": [
    "# Add the output to the map\n",
    "for color, route in zip(['green', 'red', 'blue'], result['routes']):\n",
    "    decoded = ors.convert.decode_polyline(route['geometry'])  # Route geometry is encoded\n",
    "    gj = folium.GeoJson(\n",
    "        name='Vehicle {}'.format(route['vehicle']),\n",
    "        data={\"type\": \"FeatureCollection\", \"features\": [{\"type\": \"Feature\",\n",
    "                                                         \"geometry\": decoded,\n",
    "                                                         \"properties\": {\"color\": color}\n",
    "                                                         }]},\n",
    "        style_function=lambda x: {\"color\": x['properties']['color']}\n",
    "    )\n",
    "    gj.add_child(folium.Tooltip(\n",
    "        \"\"\"<h4>Vehicle {vehicle}</h4>\n",
    "        <b>Distance</b> {distance} m <br>\n",
    "        <b>Duration</b> {duration} secs\n",
    "        \"\"\".format(**route)\n",
    "    ))\n",
    "    gj.add_to(m)"
   ]
  },
  {
   "cell_type": "code",
   "execution_count": null,
   "id": "829a24ba-5d15-48e1-b338-31f905f954d7",
   "metadata": {},
   "outputs": [],
   "source": [
    "folium.LayerControl().add_to(m)\n",
    "m"
   ]
  },
  {
   "cell_type": "markdown",
   "id": "aef786fc-bca3-4f60-b1ed-2e76d13e119a",
   "metadata": {},
   "source": [
    "<h3>Vehicles Optimised</h3>\n",
    "<h4>How many vehicles were used to carry the amount of goods, total distance travelled and time taken to complete the route.</h4>"
   ]
  },
  {
   "cell_type": "code",
   "execution_count": null,
   "id": "2579c92c-23ee-4ccb-a5e7-40ddf26d707a",
   "metadata": {
    "scrolled": true
   },
   "outputs": [],
   "source": [
    "# Only extract relevant fields from the response\n",
    "extract_fields = ['distance', 'amount', 'duration']\n",
    "data = [{key: route[key] for key in extract_fields} for route in result['routes']]\n",
    "\n",
    "vehicles_df = pd.DataFrame(data)\n",
    "vehicles_df.index.name = 'vehicle'\n",
    "vehicles_df"
   ]
  },
  {
   "cell_type": "code",
   "execution_count": null,
   "id": "cbe40325-1a5c-42a5-b332-e2eb65e84e77",
   "metadata": {
    "scrolled": true
   },
   "outputs": [],
   "source": [
    "# Create a list to display the schedule for all vehicles\n",
    "stations = list()\n",
    "for route in result['routes']:\n",
    "    vehicle = list()\n",
    "    for step in route[\"steps\"]:\n",
    "        vehicle.append(\n",
    "            [\n",
    "                step.get(\"job\", \"Depot\"),  # Station ID\n",
    "                step[\"arrival\"],  # Arrival time\n",
    "                step[\"arrival\"] + step.get(\"service\", 0),  # Departure time\n",
    "            ]\n",
    "        )\n",
    "    stations.append(vehicle)"
   ]
  },
  {
   "cell_type": "markdown",
   "id": "9d10295d-cf23-4e72-b58a-c1f2ba8ffc02",
   "metadata": {},
   "source": [
    "<h3>Vehicle Routing Schedule</h3>"
   ]
  },
  {
   "cell_type": "code",
   "execution_count": null,
   "id": "d77e936b",
   "metadata": {},
   "outputs": [],
   "source": [
    "schedule = []\n",
    "for idx in range(len(stations)):\n",
    "    for sde in range(len(stations[idx])):\n",
    "        pt = stations[idx][sde]\n",
    "        if idx not in pt:\n",
    "            pt.append(idx)\n",
    "    schedule.append(stations[idx])\n",
    "    \n",
    "frames = []\n",
    "for idx in range(len(schedule)):\n",
    "    frame = pd.DataFrame(schedule[idx], columns=[\"Station ID\", \"Arrival\", \"Departure\", \"Vehicle\"])\n",
    "    frame['Vehicle'] = str(idx)\n",
    "    frames.append(frame)"
   ]
  },
  {
   "cell_type": "code",
   "execution_count": null,
   "id": "52993418",
   "metadata": {},
   "outputs": [],
   "source": [
    "result = pd.concat(frames)\n",
    "result['Arrival'] = pd.to_datetime(result['Arrival'], unit='s')\n",
    "result['Departure'] = pd.to_datetime(result['Departure'], unit='s')\n",
    "result.set_index(result.columns[-1], inplace=True)\n",
    "result.reset_index(inplace=True)\n",
    "result"
   ]
  }
 ],
 "metadata": {
  "kernelspec": {
   "display_name": "Python 3 (ipykernel)",
   "language": "python",
   "name": "python3"
  },
  "language_info": {
   "codemirror_mode": {
    "name": "ipython",
    "version": 3
   },
   "file_extension": ".py",
   "mimetype": "text/x-python",
   "name": "python",
   "nbconvert_exporter": "python",
   "pygments_lexer": "ipython3",
   "version": "3.8.5"
  }
 },
 "nbformat": 4,
 "nbformat_minor": 5
}
